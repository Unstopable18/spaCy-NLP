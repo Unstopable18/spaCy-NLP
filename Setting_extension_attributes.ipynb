{
  "nbformat": 4,
  "nbformat_minor": 0,
  "metadata": {
    "colab": {
      "provenance": [],
      "authorship_tag": "ABX9TyPUz4RGOuzI8gU/aJITRCOl",
      "include_colab_link": true
    },
    "kernelspec": {
      "name": "python3",
      "display_name": "Python 3"
    },
    "language_info": {
      "name": "python"
    }
  },
  "cells": [
    {
      "cell_type": "markdown",
      "metadata": {
        "id": "view-in-github",
        "colab_type": "text"
      },
      "source": [
        "<a href=\"https://colab.research.google.com/github/VDeshmukhCemtrex/spaCy-NLP/blob/main/Setting_extension_attributes.ipynb\" target=\"_parent\"><img src=\"https://colab.research.google.com/assets/colab-badge.svg\" alt=\"Open In Colab\"/></a>"
      ]
    },
    {
      "cell_type": "markdown",
      "source": [
        "**Step 1**\n",
        "* Use Token.set_extension to register \"is_country\" (default False).\n",
        "* Update it for \"Spain\" and print it for all tokens."
      ],
      "metadata": {
        "id": "alBpV_qEe46w"
      }
    },
    {
      "cell_type": "code",
      "source": [
        "import spacy\n",
        "from spacy.tokens import Token\n",
        "\n",
        "nlp = spacy.blank(\"en\")\n",
        "\n",
        "# Register the Token extension attribute \"is_country\" with the default value False\n",
        "Token.set_extension(\"is_country\", default=False)\n",
        "\n",
        "# Process the text and set the is_country attribute to True for the token \"Spain\"\n",
        "doc = nlp(\"I live in Spain.\")\n",
        "doc[3]._.is_country = True\n",
        "\n",
        "# Print the token text and the is_country attribute for all tokens\n",
        "print([(token.text, token._.is_country) for token in doc])"
      ],
      "metadata": {
        "colab": {
          "base_uri": "https://localhost:8080/"
        },
        "id": "1Q8Atsrql-Lq",
        "outputId": "18d37c00-85a0-4995-d919-3e98dbdc74bf"
      },
      "execution_count": 4,
      "outputs": [
        {
          "output_type": "stream",
          "name": "stdout",
          "text": [
            "[('I', False), ('live', False), ('in', False), ('Spain', True), ('.', False)]\n"
          ]
        }
      ]
    },
    {
      "cell_type": "markdown",
      "source": [
        "**Step 2**\n",
        "* Use Token.set_extension to register \"reversed\" (getter function get_reversed).\n",
        "* Print its value for each token."
      ],
      "metadata": {
        "id": "mYIr4LG31GMd"
      }
    },
    {
      "cell_type": "code",
      "source": [
        "import spacy\n",
        "from spacy.tokens import Token\n",
        "\n",
        "nlp = spacy.blank(\"en\")\n",
        "\n",
        "# Define the getter function that takes a token and returns its reversed text\n",
        "def get_reversed(token):\n",
        "    return token.text[::-1]\n",
        "\n",
        "\n",
        "# Register the Token property extension \"reversed\" with the getter get_reversed\n",
        "Token.set_extension(\"reversed\", getter=get_reversed)\n",
        "\n",
        "# Process the text and print the reversed attribute for each token\n",
        "doc = nlp(\"All generalizations are false, including this one.\")\n",
        "for token in doc:\n",
        "    print(\"reversed:\", token._.reversed)"
      ],
      "metadata": {
        "colab": {
          "base_uri": "https://localhost:8080/"
        },
        "id": "IMUrYNFJGm2h",
        "outputId": "929c2523-5c5d-4b8d-c1e6-2f58a4799c7d"
      },
      "execution_count": 5,
      "outputs": [
        {
          "output_type": "stream",
          "name": "stdout",
          "text": [
            "reversed: llA\n",
            "reversed: snoitazilareneg\n",
            "reversed: era\n",
            "reversed: eslaf\n",
            "reversed: ,\n",
            "reversed: gnidulcni\n",
            "reversed: siht\n",
            "reversed: eno\n",
            "reversed: .\n"
          ]
        }
      ]
    },
    {
      "cell_type": "markdown",
      "source": [
        "**Part 3**\n",
        "* Complete the get_has_number function .\n",
        "* Use Doc.set_extension to register \"has_number\" (getter get_has_number) and print its value."
      ],
      "metadata": {
        "id": "N1whRm912fxt"
      }
    },
    {
      "cell_type": "code",
      "source": [
        "import spacy\n",
        "from spacy.tokens import Doc\n",
        "\n",
        "nlp = spacy.blank(\"en\")\n",
        "\n",
        "# Define the getter function\n",
        "def get_has_number(doc):\n",
        "    # Return if any of the tokens in the doc return True for token.like_num\n",
        "    return any(token.like_num for token in doc)\n",
        "\n",
        "\n",
        "# Register the Doc property extension \"has_number\" with the getter get_has_number\n",
        "Doc.set_extension(\"has_number\",force=True, getter=get_has_number)\n",
        "\n",
        "# Process the text and check the custom has_number attribute\n",
        "doc = nlp(\"The museum closed for five years in 2012.\")\n",
        "print(\"has_number:\", doc._.has_number)"
      ],
      "metadata": {
        "colab": {
          "base_uri": "https://localhost:8080/"
        },
        "id": "0eg58x0d2CsR",
        "outputId": "c8b1261a-ee5f-4887-946c-22ba39952bfa"
      },
      "execution_count": 9,
      "outputs": [
        {
          "output_type": "stream",
          "name": "stdout",
          "text": [
            "has_number: True\n"
          ]
        }
      ]
    },
    {
      "cell_type": "markdown",
      "source": [
        "**Part 4**\n",
        "* Use Span.set_extension to register \"to_html\" (method to_html).\n",
        "* Call it on doc[0:2] with the tag \"strong\"."
      ],
      "metadata": {
        "id": "DnIDz29S4H5j"
      }
    },
    {
      "cell_type": "code",
      "source": [
        "import spacy\n",
        "from spacy.tokens import Span\n",
        "\n",
        "nlp = spacy.blank(\"en\")\n",
        "\n",
        "# Define the method\n",
        "def to_html(span, tag):\n",
        "    # Wrap the span text in a HTML tag and return it\n",
        "    return f\"<{tag}>{span.text}</{tag}>\"\n",
        "\n",
        "\n",
        "# Register the Span method extension \"to_html\" with the method to_html\n",
        "Span.set_extension(\"to_html\",force=True, method=to_html)\n",
        "\n",
        "\n",
        "# Process the text and call the to_html method on the span with the tag name \"strong\"\n",
        "doc = nlp(\"Hello world, this is a sentence.\")\n",
        "span = doc[0:2]\n",
        "print(span._.to_html(\"strong\"))"
      ],
      "metadata": {
        "colab": {
          "base_uri": "https://localhost:8080/"
        },
        "id": "5P71-9aA3f1g",
        "outputId": "67f74e00-a7ab-4a96-d26a-7442072b218f"
      },
      "execution_count": 11,
      "outputs": [
        {
          "output_type": "stream",
          "name": "stdout",
          "text": [
            "<strong>Hello world</strong>\n"
          ]
        }
      ]
    }
  ]
}