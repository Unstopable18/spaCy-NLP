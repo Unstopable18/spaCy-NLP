{
  "nbformat": 4,
  "nbformat_minor": 0,
  "metadata": {
    "colab": {
      "provenance": [],
      "authorship_tag": "ABX9TyO96yqPNPN46ubM+2+9BoyJ",
      "include_colab_link": true
    },
    "kernelspec": {
      "name": "python3",
      "display_name": "Python 3"
    },
    "language_info": {
      "name": "python"
    }
  },
  "cells": [
    {
      "cell_type": "markdown",
      "metadata": {
        "id": "view-in-github",
        "colab_type": "text"
      },
      "source": [
        "<a href=\"https://colab.research.google.com/github/VDeshmukhCemtrex/spaCy-NLP/blob/main/Simple_components.ipynb\" target=\"_parent\"><img src=\"https://colab.research.google.com/assets/colab-badge.svg\" alt=\"Open In Colab\"/></a>"
      ]
    },
    {
      "cell_type": "markdown",
      "source": [
        "* Complete the component function with the doc’s length.\n",
        "* Add the \"length_component\" to the existing pipeline as the first component.\n",
        "* Try out the new pipeline and process any text with the nlp object – for example “This is a sentence.”."
      ],
      "metadata": {
        "id": "alBpV_qEe46w"
      }
    },
    {
      "cell_type": "code",
      "source": [
        "import spacy\n",
        "from spacy.language import Language\n",
        "\n",
        "# Define the custom component\n",
        "@Language.component(\"length_component\")\n",
        "def length_component_function(doc):\n",
        "    # Get the doc's length\n",
        "    doc_length = len(doc)\n",
        "    print(f\"This document is {doc_length} tokens long.\")\n",
        "    # Return the doc\n",
        "    return doc\n",
        "\n",
        "\n",
        "# Load the small English pipeline\n",
        "nlp = spacy.load(\"en_core_web_sm\")\n",
        "\n",
        "# Add the component first in the pipeline and print the pipe names\n",
        "nlp.add_pipe(\"length_component\",first=True)\n",
        "print(nlp.pipe_names)\n",
        "\n",
        "# Process a text\n",
        "doc = nlp(\"Hello world!\")"
      ],
      "metadata": {
        "colab": {
          "base_uri": "https://localhost:8080/"
        },
        "id": "1Q8Atsrql-Lq",
        "outputId": "a1403af0-64a4-4e83-e304-9b1aaf53a6cf"
      },
      "execution_count": 39,
      "outputs": [
        {
          "output_type": "stream",
          "name": "stdout",
          "text": [
            "['length_component', 'tok2vec', 'tagger', 'parser', 'attribute_ruler', 'lemmatizer', 'ner']\n",
            "This document is 3 tokens long.\n"
          ]
        }
      ]
    },
    {
      "cell_type": "code",
      "source": [],
      "metadata": {
        "id": "IMUrYNFJGm2h"
      },
      "execution_count": null,
      "outputs": []
    }
  ]
}