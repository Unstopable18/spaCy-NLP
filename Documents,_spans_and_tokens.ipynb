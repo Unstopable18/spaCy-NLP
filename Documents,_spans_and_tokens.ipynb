{
  "nbformat": 4,
  "nbformat_minor": 0,
  "metadata": {
    "colab": {
      "provenance": [],
      "authorship_tag": "ABX9TyNE8DK5jplcUeFxd0LDmpzt",
      "include_colab_link": true
    },
    "kernelspec": {
      "name": "python3",
      "display_name": "Python 3"
    },
    "language_info": {
      "name": "python"
    }
  },
  "cells": [
    {
      "cell_type": "markdown",
      "metadata": {
        "id": "view-in-github",
        "colab_type": "text"
      },
      "source": [
        "<a href=\"https://colab.research.google.com/github/VDeshmukhCemtrex/spaCy-NLP/blob/main/Documents%2C_spans_and_tokens.ipynb\" target=\"_parent\"><img src=\"https://colab.research.google.com/assets/colab-badge.svg\" alt=\"Open In Colab\"/></a>"
      ]
    },
    {
      "cell_type": "markdown",
      "source": [
        "When you call nlp on a string, spaCy first tokenizes the text and creates a document object. In this exercise, you’ll learn more about the Doc, as well as its views Token and Span.\n",
        "\n",
        "**Step 1**\n",
        "* Use spacy.blank to create the English nlp object.\n",
        "* Process the text and instantiate a Doc object in the variable doc.\n",
        "* Select the first token of the Doc and print its text."
      ],
      "metadata": {
        "id": "alBpV_qEe46w"
      }
    },
    {
      "cell_type": "code",
      "execution_count": 4,
      "metadata": {
        "colab": {
          "base_uri": "https://localhost:8080/"
        },
        "id": "-xV6dGjSeepi",
        "outputId": "cea263df-8bf4-4d59-e551-8959d7fb915a"
      },
      "outputs": [
        {
          "output_type": "stream",
          "name": "stdout",
          "text": [
            "I\n"
          ]
        }
      ],
      "source": [
        "# Import spaCy\n",
        "import spacy\n",
        "\n",
        "# Create the English nlp object\n",
        "nlp = spacy.blank('en')\n",
        "\n",
        "# Process the text\n",
        "doc = nlp(\"I like tree kangaroos and narwhals.\")\n",
        "\n",
        "# Select the first token\n",
        "first_token = doc[0]\n",
        "\n",
        "# Print the first token's text\n",
        "print(first_token.text)"
      ]
    },
    {
      "cell_type": "markdown",
      "source": [
        "**Step 2**\n",
        "* Use spacy.blank to create the English nlp object.\n",
        "* Process the text and instantiate a Doc object in the variable doc.\n",
        "* Create a slice of the Doc for the tokens “tree kangaroos” and “tree kangaroos and narwhals”."
      ],
      "metadata": {
        "id": "dbof_ztFfkkF"
      }
    },
    {
      "cell_type": "code",
      "source": [
        "# Import spaCy\n",
        "import spacy\n",
        "\n",
        "# Create the English nlp object\n",
        "nlp = spacy.blank('en')\n",
        "\n",
        "# Process the text\n",
        "doc = nlp(\"I like tree kangaroos and narwhals.\")\n",
        "\n",
        "# A slice of the Doc for \"tree kangaroos\"\n",
        "tree_kangaroos = doc[2:4]\n",
        "print(tree_kangaroos.text)\n",
        "\n",
        "# A slice of the Doc for \"tree kangaroos and narwhals\" (without the \".\")\n",
        "tree_kangaroos_and_narwhals = doc[2:6]\n",
        "print(tree_kangaroos_and_narwhals.text)"
      ],
      "metadata": {
        "colab": {
          "base_uri": "https://localhost:8080/"
        },
        "id": "BSebYKxhfgM9",
        "outputId": "ed40844f-7c98-42fb-c401-238d17424186"
      },
      "execution_count": 6,
      "outputs": [
        {
          "output_type": "stream",
          "name": "stdout",
          "text": [
            "tree kangaroos\n",
            "tree kangaroos and narwhals\n"
          ]
        }
      ]
    },
    {
      "cell_type": "code",
      "source": [],
      "metadata": {
        "id": "yVQonj7khy_7"
      },
      "execution_count": null,
      "outputs": []
    }
  ]
}